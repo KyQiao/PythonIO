{
 "cells": [
  {
   "cell_type": "markdown",
   "metadata": {
    "slideshow": {
     "slide_type": "slide"
    }
   },
   "source": [
    "Some reference:\n",
    "\n",
    "explaination of Unicode and utf-8:\n",
    "https://www.zhihu.com/question/23374078/answer/69732605\n",
    "    \n",
    "http://about.uuspider.com/2015/07/20/decode.html\n",
    "    \n",
    "https://zh.wikipedia.org/wiki/Unicode\n",
    "    \n",
    "Basic knowledge of ASCII:\n",
    "https://zh.wikipedia.org/wiki/ASCII\n",
    "    "
   ]
  },
  {
   "cell_type": "markdown",
   "metadata": {},
   "source": [
    "[细说：Unicode, UTF-8, UTF-16, UTF-32, UCS-2, UCS-4](https://www.cnblogs.com/malecrab/p/5300503.html)\n",
    "\n",
    "[字符编码笔记：ASCII，Unicode 和 UTF-8](http://www.ruanyifeng.com/blog/2007/10/ascii_unicode_and_utf-8.html)\n",
    "\n",
    "[What are binary and text files?](https://www.nayuki.io/page/what-are-binary-and-text-files)\n",
    "\n",
    "[ANSI](https://baike.baidu.com/item/ANSI/10401940)"
   ]
  },
  {
   "cell_type": "markdown",
   "metadata": {},
   "source": [
    "[python 不同格式的数据的读取效率](https://applenob.github.io/save_comp.html)\n",
    "\n"
   ]
  },
  {
   "cell_type": "code",
   "execution_count": null,
   "metadata": {},
   "outputs": [],
   "source": []
  }
 ],
 "metadata": {
  "celltoolbar": "Slideshow",
  "kernelspec": {
   "display_name": "Python 3",
   "language": "python",
   "name": "python3"
  },
  "language_info": {
   "codemirror_mode": {
    "name": "ipython",
    "version": 3
   },
   "file_extension": ".py",
   "mimetype": "text/x-python",
   "name": "python",
   "nbconvert_exporter": "python",
   "pygments_lexer": "ipython3",
   "version": "3.6.5"
  }
 },
 "nbformat": 4,
 "nbformat_minor": 2
}
