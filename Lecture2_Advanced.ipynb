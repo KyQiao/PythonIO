{
 "cells": [
  {
   "cell_type": "markdown",
   "metadata": {},
   "source": [
    "# Python IO Advanced"
   ]
  },
  {
   "cell_type": "markdown",
   "metadata": {},
   "source": [
    "## Python & RE (regex)\n",
    "Using regular expression with Python\n",
    "\n",
    "## Python & MarkUpText (html, xml)\n",
    "std lib xml.\n",
    "\n",
    "## HDF5\n",
    "https://www.hdfgroup.org/\n",
    "\n",
    "## Advanced for Matplotlib\n",
    "OOP operation of Matplotlib"
   ]
  },
  {
   "cell_type": "markdown",
   "metadata": {},
   "source": [
    "# **The documentation is not finished yet.**"
   ]
  },
  {
   "cell_type": "markdown",
   "metadata": {},
   "source": [
    "## Python & RE (regex)\n",
    "Using regular expression with Python"
   ]
  },
  {
   "cell_type": "markdown",
   "metadata": {},
   "source": [
    "some tutorial\n",
    "\n",
    "https://www.tutorialspoint.com/python/python_reg_expressions.htm"
   ]
  },
  {
   "cell_type": "markdown",
   "metadata": {},
   "source": [
    "See the RE folder."
   ]
  },
  {
   "cell_type": "code",
   "execution_count": 27,
   "metadata": {},
   "outputs": [],
   "source": [
    "import re"
   ]
  },
  {
   "cell_type": "markdown",
   "metadata": {},
   "source": [
    "re.match(pattern, string, flags=0)"
   ]
  },
  {
   "cell_type": "code",
   "execution_count": 29,
   "metadata": {},
   "outputs": [
    {
     "name": "stdout",
     "output_type": "stream",
     "text": [
      "(0, 3)\n"
     ]
    }
   ],
   "source": [
    "print(re.match('www', 'www.github.com').span())"
   ]
  },
  {
   "cell_type": "code",
   "execution_count": 30,
   "metadata": {},
   "outputs": [
    {
     "name": "stdout",
     "output_type": "stream",
     "text": [
      "None\n"
     ]
    }
   ],
   "source": [
    "print(re.match('com', 'www.github.com'))"
   ]
  },
  {
   "cell_type": "code",
   "execution_count": 31,
   "metadata": {},
   "outputs": [
    {
     "name": "stdout",
     "output_type": "stream",
     "text": [
      "matchObj.group() :  Cats are smarter than dogs\n",
      "matchObj.group(1) :  Cats\n",
      "matchObj.group(2) :  smarter\n"
     ]
    }
   ],
   "source": [
    "line = \"Cats are smarter than dogs\"\n",
    " \n",
    "matchObj = re.match( r'(.*) are (.*?) .*', line, re.M|re.I)\n",
    "\n",
    "if matchObj:\n",
    "   print(\"matchObj.group() : \", matchObj.group())\n",
    "   print(\"matchObj.group(1) : \", matchObj.group(1))\n",
    "   print(\"matchObj.group(2) : \", matchObj.group(2))\n",
    "else:\n",
    "   print(\"No match!!\")"
   ]
  },
  {
   "cell_type": "markdown",
   "metadata": {},
   "source": [
    "Raw string mark 'r'\n",
    "\n",
    "https://docs.python.org/3.6/library/re.html#raw-string-notation\n",
    "\n",
    "'u' for Unicode\n",
    "\n",
    "'b' for Bytes"
   ]
  },
  {
   "cell_type": "code",
   "execution_count": 34,
   "metadata": {},
   "outputs": [
    {
     "name": "stdout",
     "output_type": "stream",
     "text": [
      "No match!!\n",
      "search --> searchObj.group() :  dogs\n"
     ]
    }
   ],
   "source": [
    "line = \"Cats are smarter than dogs\";\n",
    "\n",
    "matchObj = re.match( r'dogs', line, re.M|re.I)\n",
    "if matchObj:\n",
    "   print(\"match --> matchObj.group() : \", matchObj.group())\n",
    "else:\n",
    "   print(\"No match!!\")\n",
    "\n",
    "searchObj = re.search( r'dogs', line, re.M|re.I)\n",
    "if searchObj:\n",
    "   print(\"search --> searchObj.group() : \", searchObj.group())\n",
    "else:\n",
    "   print(\"Nothing found!!\")"
   ]
  },
  {
   "cell_type": "code",
   "execution_count": 35,
   "metadata": {},
   "outputs": [
    {
     "name": "stdout",
     "output_type": "stream",
     "text": [
      "Phone Num :  2004-959-559 \n",
      "Phone Num :  2004959559\n"
     ]
    }
   ],
   "source": [
    "phone = \"2004-959-559 # This is Phone Number\"\n",
    "\n",
    "# Delete Python-style comments\n",
    "num = re.sub(r'#.*$', \"\", phone)\n",
    "print(\"Phone Num : \", num)\n",
    "\n",
    "# Remove anything other than digits\n",
    "num = re.sub(r'\\D', \"\", phone)    \n",
    "print(\"Phone Num : \", num)"
   ]
  },
  {
   "cell_type": "markdown",
   "metadata": {},
   "source": [
    "\n",
    "## Python & MarkUpText (html, xml)\n",
    "std lib xml.\n",
    "\n"
   ]
  },
  {
   "cell_type": "markdown",
   "metadata": {},
   "source": [
    "See example in xml folder."
   ]
  },
  {
   "cell_type": "code",
   "execution_count": null,
   "metadata": {},
   "outputs": [],
   "source": []
  },
  {
   "cell_type": "markdown",
   "metadata": {},
   "source": [
    "## HDF5\n",
    "\n",
    "HDF stand for `Hierarchical Data Format`.\n",
    "\n",
    "Home page: https://www.hdfgroup.org/\n",
    "\n",
    "Official doc: http://docs.h5py.org/en/stable/high/file.html#opening-creating-files\n",
    "\n",
    "Official guide: https://portal.hdfgroup.org/display/HDF5/HDF5+User%27s+Guide\n",
    "\n",
    "Tutorial(Chinese): https://blog.csdn.net/yudf2010/article/details/50353292"
   ]
  },
  {
   "cell_type": "code",
   "execution_count": 1,
   "metadata": {},
   "outputs": [],
   "source": [
    "import h5py"
   ]
  },
  {
   "cell_type": "code",
   "execution_count": 2,
   "metadata": {},
   "outputs": [],
   "source": [
    "import numpy as np\n",
    "f = h5py.File('./hdf5/myfile.hdf5','w')"
   ]
  },
  {
   "cell_type": "code",
   "execution_count": 3,
   "metadata": {},
   "outputs": [],
   "source": [
    "dset = f.create_dataset(\"mydataset\",(100,2),dtype='f')"
   ]
  },
  {
   "cell_type": "code",
   "execution_count": 4,
   "metadata": {},
   "outputs": [],
   "source": [
    "arr = np.random.rand(100,2)\n",
    "dset = f.create_dataset(\"init\",data=arr)"
   ]
  },
  {
   "cell_type": "code",
   "execution_count": 5,
   "metadata": {},
   "outputs": [],
   "source": [
    "g = h5py.File('./hdf5/myfile.hdf5','r')"
   ]
  },
  {
   "cell_type": "code",
   "execution_count": 6,
   "metadata": {},
   "outputs": [
    {
     "name": "stdout",
     "output_type": "stream",
     "text": [
      "KeysView(<HDF5 file \"myfile.hdf5\" (mode r+)>)\n"
     ]
    }
   ],
   "source": [
    "print(g.keys())"
   ]
  },
  {
   "cell_type": "code",
   "execution_count": 7,
   "metadata": {},
   "outputs": [
    {
     "name": "stdout",
     "output_type": "stream",
     "text": [
      "init\n",
      "/init\n",
      "(100, 2)\n",
      "[[0.3135762  0.28650201]\n",
      " [0.16429446 0.42356342]\n",
      " [0.50942349 0.6801578 ]\n",
      " [0.86468874 0.58730587]\n",
      " [0.19549155 0.76929158]]\n",
      "mydataset\n",
      "/mydataset\n",
      "(100, 2)\n",
      "[[0. 0.]\n",
      " [0. 0.]\n",
      " [0. 0.]\n",
      " [0. 0.]\n",
      " [0. 0.]]\n"
     ]
    }
   ],
   "source": [
    "for key in f.keys():\n",
    "    print(key)\n",
    "    print(f[key].name)\n",
    "    print(f[key].shape)\n",
    "    print(f[key].value[0:5])\n",
    "    "
   ]
  },
  {
   "cell_type": "code",
   "execution_count": 8,
   "metadata": {},
   "outputs": [],
   "source": [
    "g.close()"
   ]
  },
  {
   "cell_type": "code",
   "execution_count": 9,
   "metadata": {},
   "outputs": [],
   "source": [
    "f.close()"
   ]
  },
  {
   "cell_type": "code",
   "execution_count": 10,
   "metadata": {},
   "outputs": [],
   "source": [
    "f = h5py.File('./hdf5/myfile.hdf5','r+')"
   ]
  },
  {
   "cell_type": "code",
   "execution_count": 11,
   "metadata": {},
   "outputs": [
    {
     "name": "stdout",
     "output_type": "stream",
     "text": [
      "init\n",
      "mydataset\n"
     ]
    }
   ],
   "source": [
    "for key in f.keys():\n",
    "    print(key)"
   ]
  },
  {
   "cell_type": "code",
   "execution_count": 12,
   "metadata": {},
   "outputs": [],
   "source": [
    "data = f['mydataset']\n",
    "data[...] = np.random.rand(100,2)"
   ]
  },
  {
   "cell_type": "code",
   "execution_count": 13,
   "metadata": {},
   "outputs": [
    {
     "name": "stdout",
     "output_type": "stream",
     "text": [
      "init\n",
      "mydataset\n"
     ]
    }
   ],
   "source": [
    "for key in f.keys():\n",
    "    print(key)"
   ]
  },
  {
   "cell_type": "code",
   "execution_count": 14,
   "metadata": {},
   "outputs": [
    {
     "data": {
      "text/plain": [
       "array([[0.1757824 , 0.09998398],\n",
       "       [0.63305527, 0.9996707 ],\n",
       "       [0.83607554, 0.47740483],\n",
       "       [0.6329356 , 0.7614831 ],\n",
       "       [0.5598986 , 0.9395614 ]], dtype=float32)"
      ]
     },
     "execution_count": 14,
     "metadata": {},
     "output_type": "execute_result"
    }
   ],
   "source": [
    "f['mydataset'][0:5]"
   ]
  },
  {
   "cell_type": "code",
   "execution_count": 15,
   "metadata": {},
   "outputs": [],
   "source": [
    "f.close()"
   ]
  },
  {
   "cell_type": "code",
   "execution_count": 16,
   "metadata": {
    "scrolled": true
   },
   "outputs": [],
   "source": [
    "f = h5py.File('./hdf5/group.hdf5','w')\n",
    "dset = f.create_dataset(\"autochunk\",(100,100),chunks=True)\n",
    "dset[0:10,:] = np.random.randint(0,10,size=(10,100))"
   ]
  },
  {
   "cell_type": "code",
   "execution_count": 17,
   "metadata": {},
   "outputs": [],
   "source": [
    "dset[10:,:]=np.random.rand(90,100)"
   ]
  },
  {
   "cell_type": "code",
   "execution_count": 18,
   "metadata": {},
   "outputs": [
    {
     "data": {
      "text/plain": [
       "array([[0.        , 4.        , 1.        , ..., 7.        , 8.        ,\n",
       "        8.        ],\n",
       "       [2.        , 3.        , 2.        , ..., 9.        , 3.        ,\n",
       "        1.        ],\n",
       "       [1.        , 6.        , 9.        , ..., 1.        , 5.        ,\n",
       "        5.        ],\n",
       "       ...,\n",
       "       [0.5224717 , 0.2337529 , 0.02856528, ..., 0.8768636 , 0.1099859 ,\n",
       "        0.54242194],\n",
       "       [0.14540748, 0.13466418, 0.80195594, ..., 0.23663245, 0.81982607,\n",
       "        0.48894787],\n",
       "       [0.08232588, 0.47629642, 0.59545565, ..., 0.18400279, 0.02850683,\n",
       "        0.09432878]], dtype=float32)"
      ]
     },
     "execution_count": 18,
     "metadata": {},
     "output_type": "execute_result"
    }
   ],
   "source": [
    "dset[0:20,:]"
   ]
  },
  {
   "cell_type": "code",
   "execution_count": 19,
   "metadata": {
    "scrolled": true
   },
   "outputs": [
    {
     "data": {
      "text/plain": [
       "array([[0., 4., 1., 8., 8.],\n",
       "       [2., 3., 2., 1., 7.],\n",
       "       [1., 6., 9., 2., 1.],\n",
       "       [3., 8., 0., 7., 1.],\n",
       "       [3., 1., 6., 8., 0.],\n",
       "       [9., 6., 5., 0., 9.],\n",
       "       [1., 8., 7., 0., 7.],\n",
       "       [0., 4., 9., 1., 1.],\n",
       "       [9., 6., 9., 7., 5.],\n",
       "       [3., 2., 7., 1., 9.]], dtype=float32)"
      ]
     },
     "execution_count": 19,
     "metadata": {},
     "output_type": "execute_result"
    }
   ],
   "source": [
    "dset[0:10,0:5]"
   ]
  },
  {
   "cell_type": "code",
   "execution_count": 20,
   "metadata": {},
   "outputs": [],
   "source": [
    "f.close()"
   ]
  },
  {
   "cell_type": "code",
   "execution_count": 21,
   "metadata": {},
   "outputs": [],
   "source": [
    "f=h5py.File(\"myh5py.hdf5\",\"w\")"
   ]
  },
  {
   "cell_type": "code",
   "execution_count": 22,
   "metadata": {},
   "outputs": [],
   "source": [
    "g1=f.create_group(\"bar\")"
   ]
  },
  {
   "cell_type": "code",
   "execution_count": 23,
   "metadata": {},
   "outputs": [],
   "source": [
    "g1[\"dset1\"]=np.arange(10)\n",
    "g1[\"dset2\"]=np.arange(12).reshape((3,4))"
   ]
  },
  {
   "cell_type": "code",
   "execution_count": 24,
   "metadata": {},
   "outputs": [
    {
     "name": "stdout",
     "output_type": "stream",
     "text": [
      "/bar/dset1\n",
      "[0 1 2 3 4 5 6 7 8 9]\n",
      "/bar/dset2\n",
      "[[ 0  1  2  3]\n",
      " [ 4  5  6  7]\n",
      " [ 8  9 10 11]]\n"
     ]
    }
   ],
   "source": [
    "for key in g1.keys():\n",
    "    print(g1[key].name)\n",
    "    print(g1[key].value)"
   ]
  },
  {
   "cell_type": "code",
   "execution_count": 25,
   "metadata": {},
   "outputs": [
    {
     "name": "stdout",
     "output_type": "stream",
     "text": [
      "bar\n",
      "bar/dset1\n",
      "bar/dset2\n"
     ]
    }
   ],
   "source": [
    "f.visit(lambda x: print(x))"
   ]
  },
  {
   "cell_type": "code",
   "execution_count": 26,
   "metadata": {},
   "outputs": [],
   "source": [
    "f.close()"
   ]
  },
  {
   "cell_type": "markdown",
   "metadata": {},
   "source": [
    "## Advanced for Matplotlib\n",
    "\n",
    "Layer detail(Chinese) : https://blog.csdn.net/Xw_Classmate/article/details/51174921\n"
   ]
  },
  {
   "cell_type": "code",
   "execution_count": null,
   "metadata": {},
   "outputs": [],
   "source": []
  }
 ],
 "metadata": {
  "kernelspec": {
   "display_name": "Python 3",
   "language": "python",
   "name": "python3"
  },
  "language_info": {
   "codemirror_mode": {
    "name": "ipython",
    "version": 3
   },
   "file_extension": ".py",
   "mimetype": "text/x-python",
   "name": "python",
   "nbconvert_exporter": "python",
   "pygments_lexer": "ipython3",
   "version": "3.6.5"
  }
 },
 "nbformat": 4,
 "nbformat_minor": 2
}
