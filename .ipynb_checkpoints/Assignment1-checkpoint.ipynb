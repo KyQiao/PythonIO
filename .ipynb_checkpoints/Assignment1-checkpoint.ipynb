{
 "cells": [
  {
   "cell_type": "markdown",
   "metadata": {},
   "source": [
    "# Assignment 1\n",
    "A.K.A Impoosible puzzle.\n",
    "Link: https://www.zhihu.com/question/25715430\n",
    "\n",
    "x>1,y>1,x+y<100\n",
    "x!=y\n"
   ]
  },
  {
   "cell_type": "code",
   "execution_count": 1,
   "metadata": {},
   "outputs": [],
   "source": [
    "import numpy as np\n",
    "\n",
    "# dict to store\n",
    "product={}\n",
    "summation={}\n",
    "\n",
    "mat = np.zeros([98,98,2],dtype=int)\n",
    "for i in range(98):\n",
    "    for j in range(98):\n",
    "        if i > j:\n",
    "    #       x*y\n",
    "            mat[i,j,0]=(i+2)*(j+2)\n",
    "    #     x+y\n",
    "            mat[i,j,1]=i+j+4\n",
    "            if product.__contains__(mat[i,j,0]):\n",
    "                product[mat[i,j,0]]+=1\n",
    "            else:\n",
    "                product[mat[i,j,0]]=1\n",
    "#                 rule out summation larger than 100\n",
    "            if mat[i,j,1]<100:\n",
    "                if summation.__contains__(mat[i,j,1]):\n",
    "                    summation[mat[i,j,1]].append(int(mat[i,j,0]))\n",
    "                else:\n",
    "                    summation[mat[i,j,1]]=[int(mat[i,j,0])]"
   ]
  },
  {
   "cell_type": "markdown",
   "metadata": {},
   "source": [
    "product: dict, how many times a product appears in the matrix\n",
    "\n",
    "summation: dict, all the product that a summation corespending to."
   ]
  },
  {
   "cell_type": "markdown",
   "metadata": {},
   "source": [
    "## Rule out those product only appears once"
   ]
  },
  {
   "cell_type": "code",
   "execution_count": 2,
   "metadata": {},
   "outputs": [],
   "source": [
    "onlyProduct = []\n",
    "for _product,product_times in product.items():\n",
    "    if product_times==1:\n",
    "        onlyProduct.append(_product)\n",
    "for key in onlyProduct:\n",
    "    product.pop(key)"
   ]
  },
  {
   "cell_type": "markdown",
   "metadata": {},
   "source": [
    "## Rule out those summation contain product which only appears once."
   ]
  },
  {
   "cell_type": "code",
   "execution_count": 3,
   "metadata": {},
   "outputs": [],
   "source": [
    "pop_summation=[]\n",
    "a = set(onlyProduct)\n",
    "for _summation,product in summation.items():\n",
    "    if set(product) & a:\n",
    "        pop_summation.append(_summation)\n",
    "for key in pop_summation:\n",
    "    summation.pop(key)"
   ]
  },
  {
   "cell_type": "markdown",
   "metadata": {},
   "source": [
    "##  Count how many times a product appears after rule out some summation\n",
    "Now only a few number remain to be select."
   ]
  },
  {
   "cell_type": "code",
   "execution_count": 4,
   "metadata": {},
   "outputs": [],
   "source": [
    "productTimes={}\n",
    "for _summation,products in summation.items():\n",
    "#     products may contain a few product\n",
    "    for _product in products:\n",
    "        if productTimes.__contains__(_product):\n",
    "            productTimes[_product]+=1\n",
    "        else:\n",
    "            productTimes[_product]=1"
   ]
  },
  {
   "cell_type": "markdown",
   "metadata": {},
   "source": [
    "## Create a list where correct product remains"
   ]
  },
  {
   "cell_type": "code",
   "execution_count": 5,
   "metadata": {},
   "outputs": [],
   "source": [
    "remainingProduct=[]\n",
    "for _product,times in productTimes.items():\n",
    "    if times== 1:\n",
    "        remainingProduct.append(_product)"
   ]
  },
  {
   "cell_type": "markdown",
   "metadata": {},
   "source": [
    "##  Rule out summation contains wrong product and count how many times a product appears in the remaining summation dict"
   ]
  },
  {
   "cell_type": "code",
   "execution_count": 6,
   "metadata": {},
   "outputs": [
    {
     "name": "stdout",
     "output_type": "stream",
     "text": [
      "dict_items([(11, 3), (17, 1), (23, 3), (27, 9), (29, 9), (35, 10), (37, 7), (41, 13), (47, 13), (53, 18)])\n"
     ]
    }
   ],
   "source": [
    "remainingSummation = {}\n",
    "for _summation,products in summation.items():\n",
    "    for _product in products:\n",
    "        if _product in remainingProduct:\n",
    "            if remainingSummation.__contains__(_summation):\n",
    "                remainingSummation[_summation]+=1\n",
    "            else:\n",
    "                remainingSummation[_summation]=1\n",
    "print(remainingSummation.items())"
   ]
  },
  {
   "cell_type": "markdown",
   "metadata": {},
   "source": [
    "## See only summation equals 17 coreponding with one product only"
   ]
  },
  {
   "cell_type": "code",
   "execution_count": 7,
   "metadata": {
    "scrolled": true
   },
   "outputs": [
    {
     "name": "stdout",
     "output_type": "stream",
     "text": [
      "52\n"
     ]
    }
   ],
   "source": [
    "for i in summation[17]:\n",
    "    if i in remainingProduct:\n",
    "        print(i)"
   ]
  },
  {
   "cell_type": "code",
   "execution_count": 8,
   "metadata": {},
   "outputs": [
    {
     "name": "stdout",
     "output_type": "stream",
     "text": [
      "(array([11], dtype=int64), array([2], dtype=int64))\n"
     ]
    }
   ],
   "source": [
    "a = mat[:,:,0]==52\n",
    "b = mat[:,:,1]==17\n",
    "c = a*b\n",
    "\n",
    "print(np.where(c==1))"
   ]
  },
  {
   "cell_type": "markdown",
   "metadata": {},
   "source": [
    "## So we find (13,4) is the answer"
   ]
  }
 ],
 "metadata": {
  "kernelspec": {
   "display_name": "Python 3",
   "language": "python",
   "name": "python3"
  },
  "language_info": {
   "codemirror_mode": {
    "name": "ipython",
    "version": 3
   },
   "file_extension": ".py",
   "mimetype": "text/x-python",
   "name": "python",
   "nbconvert_exporter": "python",
   "pygments_lexer": "ipython3",
   "version": "3.6.5"
  }
 },
 "nbformat": 4,
 "nbformat_minor": 2
}
